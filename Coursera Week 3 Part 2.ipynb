{
    "cells": [
        {
            "cell_type": "code",
            "execution_count": 1,
            "metadata": {},
            "outputs": [],
            "source": "# The code was removed by Watson Studio for sharing."
        },
        {
            "cell_type": "markdown",
            "metadata": {
                "collapsed": true
            },
            "source": "# Segmenting and Clustering Neighborhoods in Toronto"
        },
        {
            "cell_type": "markdown",
            "metadata": {},
            "source": "## Part 1: Scraping and Cleaning"
        },
        {
            "cell_type": "markdown",
            "metadata": {},
            "source": "### Scraping the wikipage"
        },
        {
            "cell_type": "markdown",
            "metadata": {},
            "source": "Let's start by importing the libraries necessary for web scraping."
        },
        {
            "cell_type": "code",
            "execution_count": 2,
            "metadata": {},
            "outputs": [],
            "source": "# Importing libraries\nimport pandas as pd\nimport requests # for making standard html requests"
        },
        {
            "cell_type": "markdown",
            "metadata": {},
            "source": "Next up: scraping the page using pd.read_html()"
        },
        {
            "cell_type": "code",
            "execution_count": 3,
            "metadata": {},
            "outputs": [],
            "source": "# Request data target URL\nurl = \"https://en.wikipedia.org/wiki/List_of_postal_codes_of_Canada:_M\"\ndf = pd.read_html(url, header = 0)"
        },
        {
            "cell_type": "code",
            "execution_count": 4,
            "metadata": {},
            "outputs": [
                {
                    "data": {
                        "text/html": "<div>\n<style scoped>\n    .dataframe tbody tr th:only-of-type {\n        vertical-align: middle;\n    }\n\n    .dataframe tbody tr th {\n        vertical-align: top;\n    }\n\n    .dataframe thead th {\n        text-align: right;\n    }\n</style>\n<table border=\"1\" class=\"dataframe\">\n  <thead>\n    <tr style=\"text-align: right;\">\n      <th></th>\n      <th>Postal Code</th>\n      <th>Borough</th>\n      <th>Neighbourhood</th>\n    </tr>\n  </thead>\n  <tbody>\n    <tr>\n      <th>0</th>\n      <td>M1A</td>\n      <td>Not assigned</td>\n      <td>Not assigned</td>\n    </tr>\n    <tr>\n      <th>1</th>\n      <td>M2A</td>\n      <td>Not assigned</td>\n      <td>Not assigned</td>\n    </tr>\n    <tr>\n      <th>2</th>\n      <td>M3A</td>\n      <td>North York</td>\n      <td>Parkwoods</td>\n    </tr>\n    <tr>\n      <th>3</th>\n      <td>M4A</td>\n      <td>North York</td>\n      <td>Victoria Village</td>\n    </tr>\n    <tr>\n      <th>4</th>\n      <td>M5A</td>\n      <td>Downtown Toronto</td>\n      <td>Regent Park, Harbourfront</td>\n    </tr>\n  </tbody>\n</table>\n</div>",
                        "text/plain": "  Postal Code           Borough              Neighbourhood\n0         M1A      Not assigned               Not assigned\n1         M2A      Not assigned               Not assigned\n2         M3A        North York                  Parkwoods\n3         M4A        North York           Victoria Village\n4         M5A  Downtown Toronto  Regent Park, Harbourfront"
                    },
                    "execution_count": 4,
                    "metadata": {},
                    "output_type": "execute_result"
                }
            ],
            "source": "# Assign the table to the variable df\ndf = df[0]\ndf.head()"
        },
        {
            "cell_type": "markdown",
            "metadata": {},
            "source": "### Data Cleaning"
        },
        {
            "cell_type": "markdown",
            "metadata": {},
            "source": "Not interested in Boroughs that are not assigned. Clear those out."
        },
        {
            "cell_type": "code",
            "execution_count": 5,
            "metadata": {},
            "outputs": [
                {
                    "name": "stdout",
                    "output_type": "stream",
                    "text": "Count \"Not assigned\" in Borough: 77\n"
                },
                {
                    "data": {
                        "text/html": "<div>\n<style scoped>\n    .dataframe tbody tr th:only-of-type {\n        vertical-align: middle;\n    }\n\n    .dataframe tbody tr th {\n        vertical-align: top;\n    }\n\n    .dataframe thead th {\n        text-align: right;\n    }\n</style>\n<table border=\"1\" class=\"dataframe\">\n  <thead>\n    <tr style=\"text-align: right;\">\n      <th></th>\n      <th>Postal Code</th>\n      <th>Borough</th>\n      <th>Neighbourhood</th>\n    </tr>\n  </thead>\n  <tbody>\n    <tr>\n      <th>0</th>\n      <td>M3A</td>\n      <td>North York</td>\n      <td>Parkwoods</td>\n    </tr>\n    <tr>\n      <th>1</th>\n      <td>M4A</td>\n      <td>North York</td>\n      <td>Victoria Village</td>\n    </tr>\n    <tr>\n      <th>2</th>\n      <td>M5A</td>\n      <td>Downtown Toronto</td>\n      <td>Regent Park, Harbourfront</td>\n    </tr>\n    <tr>\n      <th>3</th>\n      <td>M6A</td>\n      <td>North York</td>\n      <td>Lawrence Manor, Lawrence Heights</td>\n    </tr>\n    <tr>\n      <th>4</th>\n      <td>M7A</td>\n      <td>Downtown Toronto</td>\n      <td>Queen's Park, Ontario Provincial Government</td>\n    </tr>\n  </tbody>\n</table>\n</div>",
                        "text/plain": "  Postal Code           Borough                                Neighbourhood\n0         M3A        North York                                    Parkwoods\n1         M4A        North York                             Victoria Village\n2         M5A  Downtown Toronto                    Regent Park, Harbourfront\n3         M6A        North York             Lawrence Manor, Lawrence Heights\n4         M7A  Downtown Toronto  Queen's Park, Ontario Provincial Government"
                    },
                    "execution_count": 5,
                    "metadata": {},
                    "output_type": "execute_result"
                }
            ],
            "source": "# Borough should not be 'Not assigned'\nprint('Count \"Not assigned\" in Borough: {}'.format(list(df['Borough'] == \"Not assigned\").count(True)))\ndf = df.iloc[list(df['Borough'] != \"Not assigned\")].reset_index().drop(['index'], axis = 1)\ndf.head()"
        },
        {
            "cell_type": "markdown",
            "metadata": {},
            "source": "Checking if there are any Neighbourhoods with the value 'Not assigned'."
        },
        {
            "cell_type": "code",
            "execution_count": 6,
            "metadata": {},
            "outputs": [
                {
                    "name": "stdout",
                    "output_type": "stream",
                    "text": "Count \"Not assigned\" in Neighbourhood: 0\n"
                }
            ],
            "source": "#There are no cells with the value 'Not assigned'\nprint('Count \"Not assigned\" in Neighbourhood: {}'.format(list(df['Neighbourhood'] == \"Not assigned\").count(True)))"
        },
        {
            "cell_type": "markdown",
            "metadata": {},
            "source": "Checking for duplicates. If the returned dictionary is empty, there are none found."
        },
        {
            "cell_type": "code",
            "execution_count": 7,
            "metadata": {},
            "outputs": [],
            "source": "def getDuplicatesWithCount(listOfElems):\n    ''' Get frequency count of duplicate elements in the given list '''\n    dictOfElems = dict()\n    # Iterate over each element in list\n    for elem in listOfElems:\n        # If element exists in dict then increment its value else add it in dict\n        if elem in dictOfElems:\n            dictOfElems[elem] += 1\n        else:\n            dictOfElems[elem] = 1    \n \n    # Filter key-value pairs in dictionary. Keep pairs whose value is greater than 1 i.e. only duplicate elements from list.\n    dictOfElems = { key:value for key, value in dictOfElems.items() if value > 1}\n    # Returns a dict of duplicate elements and thier frequency count\n    return dictOfElems"
        },
        {
            "cell_type": "code",
            "execution_count": 8,
            "metadata": {},
            "outputs": [
                {
                    "data": {
                        "text/plain": "{}"
                    },
                    "execution_count": 8,
                    "metadata": {},
                    "output_type": "execute_result"
                }
            ],
            "source": "# There are no duplicates.\ndictOfElems = getDuplicatesWithCount(list(df['Postal Code']))\ndictOfElems"
        },
        {
            "cell_type": "markdown",
            "metadata": {},
            "source": "Checking shape."
        },
        {
            "cell_type": "code",
            "execution_count": 9,
            "metadata": {},
            "outputs": [
                {
                    "name": "stdout",
                    "output_type": "stream",
                    "text": "Number of rows: 103\n"
                }
            ],
            "source": "print('Number of rows: {}'.format(df.shape[0]))"
        },
        {
            "cell_type": "markdown",
            "metadata": {},
            "source": "## Part 2: assigning geographical coordinates"
        },
        {
            "cell_type": "code",
            "execution_count": 10,
            "metadata": {},
            "outputs": [],
            "source": "# The code was removed by Watson Studio for sharing."
        },
        {
            "cell_type": "code",
            "execution_count": 11,
            "metadata": {},
            "outputs": [],
            "source": "from geopy.geocoders import Nominatim # module to convert an address into latitude and longitude values"
        },
        {
            "cell_type": "code",
            "execution_count": 15,
            "metadata": {},
            "outputs": [],
            "source": "list_lat = []\nlist_long = []\ngeolocator = Nominatim(user_agent=\"foursquare_agent\")\nlocation = None\ni = 0\n\nfor postal_code in df['Postal Code']:\n    location = None\n    address = '{}, Toronto, Ontario'.format(postal_code)\n    geolocator = Nominatim(user_agent=\"foursquare_agent\")\n    while(location is None and i < 10):\n        location = geolocator.geocode(address)\n        i = i + 1\n    if location != None:\n        list_lat.append(location.latitude)\n        list_long.append(location.longitude)\n    else:\n        list_lat.append(None)\n        list_long.append(None)"
        },
        {
            "cell_type": "code",
            "execution_count": 16,
            "metadata": {},
            "outputs": [
                {
                    "name": "stdout",
                    "output_type": "stream",
                    "text": "[43.6534817, None, None, None, None, None, None, None, None, None, None, None, None, None, None, None, None, None, None, None, None, None, None, None, None, None, None, None, None, None, None, None, None, None, None, None, None, None, None, None, None, None, None, None, None, None, None, None, None, None, None, None, None, None, None, None, None, None, None, None, None, None, None, None, None, None, None, None, None, None, None, None, None, None, None, None, None, None, None, None, None, None, None, None, None, None, None, None, None, None, None, None, None, None, None, None, None, None, None, None, None, None, None]\n[-79.3839347, None, None, None, None, None, None, None, None, None, None, None, None, None, None, None, None, None, None, None, None, None, None, None, None, None, None, None, None, None, None, None, None, None, None, None, None, None, None, None, None, None, None, None, None, None, None, None, None, None, None, None, None, None, None, None, None, None, None, None, None, None, None, None, None, None, None, None, None, None, None, None, None, None, None, None, None, None, None, None, None, None, None, None, None, None, None, None, None, None, None, None, None, None, None, None, None, None, None, None, None, None, None]\n"
                }
            ],
            "source": "print(list_lat)\nprint(list_long)"
        },
        {
            "cell_type": "markdown",
            "metadata": {},
            "source": "Only received the first coordinates. None of the others."
        },
        {
            "cell_type": "markdown",
            "metadata": {},
            "source": "### Geocoder"
        },
        {
            "cell_type": "markdown",
            "metadata": {},
            "source": "Let's try out the Geocoder package and the geocoder.google function. First let's install geocoder"
        },
        {
            "cell_type": "code",
            "execution_count": 21,
            "metadata": {},
            "outputs": [],
            "source": "#!pip install geocoder"
        },
        {
            "cell_type": "code",
            "execution_count": 22,
            "metadata": {},
            "outputs": [],
            "source": "# Importing geocoder\nimport geocoder"
        },
        {
            "cell_type": "markdown",
            "metadata": {},
            "source": "The code performs as follows:\n\n1. Initiliazation of values:\n    1. Lists that store our values.\n    1. i is to count the number of times we have tried a certain postal code. It is to prevent an infinite loop.\n    1. lat_lng_coords temporarily stores the coordinates of a single postal code\n    1. g stores the API call\n1. A for loop will go over every postal code in the data frame\n    1. The initial values will be reset\n    1. The address will be formatted\n    1. The address will be called in a while loop, using i as a safety\n    1. If the API has found the coordinates, they will be appended to their respective lists. If not, None values will be appended."
        },
        {
            "cell_type": "code",
            "execution_count": null,
            "metadata": {},
            "outputs": [],
            "source": "list_lat = []\nlist_long = []\ni = 0\nlat_lng_coords = None\ng = None\n\nfor postal_code in df['Postal Code']:\n    lat_lng_coords = None\n    g = None\n    i = 0\n    address = '{}, Toronto, Ontario'.format(postal_code)\n    while(lat_lng_coords is None and i < 2):\n        g = geocoder.google(address)\n        lat_lng_coords = g.latlng\n        i = i + 1\n    if lat_lng_coords != None:\n        list_lat.append(lat_lng_coords[0])\n        list_long.append(lat_lng_coords[1])\n    else:\n        list_lat.append(None)\n        list_long.append(None)\n    print(address)"
        },
        {
            "cell_type": "code",
            "execution_count": null,
            "metadata": {},
            "outputs": [],
            "source": "print(list_lat)\nprint(list_long)"
        },
        {
            "cell_type": "markdown",
            "metadata": {},
            "source": "Didn't obtain any data either. In that case, let us proceed using the provided data."
        },
        {
            "cell_type": "markdown",
            "metadata": {},
            "source": "### Data Merge using provided data"
        },
        {
            "cell_type": "markdown",
            "metadata": {},
            "source": "Since we can't obtain the information with Geocoder either. We will continue using the data provided by the instructor."
        },
        {
            "cell_type": "code",
            "execution_count": 24,
            "metadata": {},
            "outputs": [
                {
                    "data": {
                        "text/html": "<div>\n<style scoped>\n    .dataframe tbody tr th:only-of-type {\n        vertical-align: middle;\n    }\n\n    .dataframe tbody tr th {\n        vertical-align: top;\n    }\n\n    .dataframe thead th {\n        text-align: right;\n    }\n</style>\n<table border=\"1\" class=\"dataframe\">\n  <thead>\n    <tr style=\"text-align: right;\">\n      <th></th>\n      <th>Postal Code</th>\n      <th>Latitude</th>\n      <th>Longitude</th>\n    </tr>\n  </thead>\n  <tbody>\n    <tr>\n      <th>0</th>\n      <td>M1B</td>\n      <td>43.806686</td>\n      <td>-79.194353</td>\n    </tr>\n    <tr>\n      <th>1</th>\n      <td>M1C</td>\n      <td>43.784535</td>\n      <td>-79.160497</td>\n    </tr>\n    <tr>\n      <th>2</th>\n      <td>M1E</td>\n      <td>43.763573</td>\n      <td>-79.188711</td>\n    </tr>\n    <tr>\n      <th>3</th>\n      <td>M1G</td>\n      <td>43.770992</td>\n      <td>-79.216917</td>\n    </tr>\n    <tr>\n      <th>4</th>\n      <td>M1H</td>\n      <td>43.773136</td>\n      <td>-79.239476</td>\n    </tr>\n  </tbody>\n</table>\n</div>",
                        "text/plain": "  Postal Code   Latitude  Longitude\n0         M1B  43.806686 -79.194353\n1         M1C  43.784535 -79.160497\n2         M1E  43.763573 -79.188711\n3         M1G  43.770992 -79.216917\n4         M1H  43.773136 -79.239476"
                    },
                    "execution_count": 24,
                    "metadata": {},
                    "output_type": "execute_result"
                }
            ],
            "source": "# Code if we can't get any coordinates with Geocoder. Project is the project called from a hidden cell using project_lib.\ngeospatial_coordinates = project.get_file(\"Geospatial_Coordinates.csv\")\ngeospatial_coordinates.head()"
        },
        {
            "cell_type": "markdown",
            "metadata": {},
            "source": "Now that we have acquired the latitude and longitude data. Let's merge the data into a single dataframe."
        },
        {
            "cell_type": "code",
            "execution_count": 25,
            "metadata": {},
            "outputs": [
                {
                    "data": {
                        "text/html": "<div>\n<style scoped>\n    .dataframe tbody tr th:only-of-type {\n        vertical-align: middle;\n    }\n\n    .dataframe tbody tr th {\n        vertical-align: top;\n    }\n\n    .dataframe thead th {\n        text-align: right;\n    }\n</style>\n<table border=\"1\" class=\"dataframe\">\n  <thead>\n    <tr style=\"text-align: right;\">\n      <th></th>\n      <th>Postal Code</th>\n      <th>Borough</th>\n      <th>Neighbourhood</th>\n      <th>Latitude</th>\n      <th>Longitude</th>\n    </tr>\n  </thead>\n  <tbody>\n    <tr>\n      <th>0</th>\n      <td>M3A</td>\n      <td>North York</td>\n      <td>Parkwoods</td>\n      <td>43.753259</td>\n      <td>-79.329656</td>\n    </tr>\n    <tr>\n      <th>1</th>\n      <td>M4A</td>\n      <td>North York</td>\n      <td>Victoria Village</td>\n      <td>43.725882</td>\n      <td>-79.315572</td>\n    </tr>\n    <tr>\n      <th>2</th>\n      <td>M5A</td>\n      <td>Downtown Toronto</td>\n      <td>Regent Park, Harbourfront</td>\n      <td>43.654260</td>\n      <td>-79.360636</td>\n    </tr>\n    <tr>\n      <th>3</th>\n      <td>M6A</td>\n      <td>North York</td>\n      <td>Lawrence Manor, Lawrence Heights</td>\n      <td>43.718518</td>\n      <td>-79.464763</td>\n    </tr>\n    <tr>\n      <th>4</th>\n      <td>M7A</td>\n      <td>Downtown Toronto</td>\n      <td>Queen's Park, Ontario Provincial Government</td>\n      <td>43.662301</td>\n      <td>-79.389494</td>\n    </tr>\n  </tbody>\n</table>\n</div>",
                        "text/plain": "  Postal Code           Borough                                Neighbourhood  \\\n0         M3A        North York                                    Parkwoods   \n1         M4A        North York                             Victoria Village   \n2         M5A  Downtown Toronto                    Regent Park, Harbourfront   \n3         M6A        North York             Lawrence Manor, Lawrence Heights   \n4         M7A  Downtown Toronto  Queen's Park, Ontario Provincial Government   \n\n    Latitude  Longitude  \n0  43.753259 -79.329656  \n1  43.725882 -79.315572  \n2  43.654260 -79.360636  \n3  43.718518 -79.464763  \n4  43.662301 -79.389494  "
                    },
                    "execution_count": 25,
                    "metadata": {},
                    "output_type": "execute_result"
                }
            ],
            "source": "df_full = df\ndf_full = df_full.merge(right = geospatial_coordinates, on = 'Postal Code')\ndf_full.head()"
        }
    ],
    "metadata": {
        "kernelspec": {
            "display_name": "Python 3.7",
            "language": "python",
            "name": "python3"
        },
        "language_info": {
            "codemirror_mode": {
                "name": "ipython",
                "version": 3
            },
            "file_extension": ".py",
            "mimetype": "text/x-python",
            "name": "python",
            "nbconvert_exporter": "python",
            "pygments_lexer": "ipython3",
            "version": "3.7.9"
        }
    },
    "nbformat": 4,
    "nbformat_minor": 1
}